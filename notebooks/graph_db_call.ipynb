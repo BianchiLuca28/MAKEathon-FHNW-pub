{
 "cells": [
  {
   "cell_type": "code",
   "execution_count": 4,
   "metadata": {},
   "outputs": [
    {
     "name": "stdout",
     "output_type": "stream",
     "text": [
      "Query failed with status code 400\n",
      "MALFORMED QUERY: QName 'ex:Feature' uses an undefined prefix\n"
     ]
    }
   ],
   "source": [
    "import requests\n",
    "\n",
    "# Define the GraphDB SPARQL endpoint URL (replace `<repository_name>` with your actual repository name)\n",
    "endpoint_url = \"http://localhost:7200/repositories/metaphactory\"\n",
    "\n",
    "def query_graphdb(sparql_query):\n",
    "    headers = {\n",
    "        \"Content-Type\": \"application/sparql-query\",\n",
    "        \"Accept\": \"application/sparql-results+json\"\n",
    "    }\n",
    "    response = requests.post(endpoint_url, data=sparql_query, headers=headers)\n",
    "    if response.status_code == 200:\n",
    "        return response.json()  # Returns query results as JSON\n",
    "    else:\n",
    "        print(f\"Query failed with status code {response.status_code}\")\n",
    "        print(response.text)\n",
    "        return None\n",
    "\n",
    "# Example SPARQL query to retrieve feature descriptions\n",
    "sparql_query = \"\"\"\n",
    "SELECT ?feature ?description\n",
    "WHERE {\n",
    "    ?feature rdf:type ex:Feature .\n",
    "    ?feature ex:description ?description .\n",
    "}\n",
    "\"\"\"\n",
    "\n",
    "results = query_graphdb(sparql_query)\n",
    "\n",
    "# Process the results\n",
    "if results:\n",
    "    for result in results[\"results\"][\"bindings\"]:\n",
    "        feature = result[\"feature\"][\"value\"]\n",
    "        description = result[\"description\"][\"value\"]\n",
    "        print(f\"Feature: {feature}, Description: {description}\")\n"
   ]
  }
 ],
 "metadata": {
  "kernelspec": {
   "display_name": "base",
   "language": "python",
   "name": "python3"
  },
  "language_info": {
   "codemirror_mode": {
    "name": "ipython",
    "version": 3
   },
   "file_extension": ".py",
   "mimetype": "text/x-python",
   "name": "python",
   "nbconvert_exporter": "python",
   "pygments_lexer": "ipython3",
   "version": "3.12.7"
  }
 },
 "nbformat": 4,
 "nbformat_minor": 2
}
