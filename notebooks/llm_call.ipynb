{
 "cells": [
  {
   "cell_type": "code",
   "execution_count": 1,
   "metadata": {},
   "outputs": [
    {
     "name": "stdout",
     "output_type": "stream",
     "text": [
      "{'choices': [{'content_filter_results': {'hate': {'filtered': False, 'severity': 'safe'}, 'self_harm': {'filtered': False, 'severity': 'safe'}, 'sexual': {'filtered': False, 'severity': 'safe'}, 'violence': {'filtered': False, 'severity': 'safe'}}, 'finish_reason': 'length', 'index': 0, 'logprobs': None, 'message': {'content': 'The theory of relativity, put forward by Albert Einstein in the early 20th century, revolutionized our understanding of space, time, and gravity. It consists of two main parts: Special Relativity and General Relativity.\\n\\n### Special Relativity', 'role': 'assistant'}}], 'created': 1729959029, 'id': 'chatcmpl-AMdev4lDEqHNBzdEsAUrPLT7NC9HX', 'model': 'gpt-4o-2024-05-13', 'object': 'chat.completion', 'prompt_filter_results': [{'prompt_index': 0, 'content_filter_results': {'hate': {'filtered': False, 'severity': 'safe'}, 'jailbreak': {'filtered': False, 'detected': False}, 'self_harm': {'filtered': False, 'severity': 'safe'}, 'sexual': {'filtered': False, 'severity': 'safe'}, 'violence': {'filtered': False, 'severity': 'safe'}}}], 'system_fingerprint': 'fp_67802d9a6d', 'usage': {'completion_tokens': 50, 'prompt_tokens': 14, 'total_tokens': 64}}\n"
     ]
    }
   ],
   "source": [
    "import requests\n",
    "import json\n",
    "# Set up your endpoint and API key\n",
    "## FILL HERE\n",
    "endpoint = \"https://d-oai-hswmakeathon-02.openai.azure.com/openai/deployments/gpt-4o/chat/completions?api-version=2024-08-01-preview\"\n",
    "api_key= \"e49e8bd5edeb44739256cd71b824952c\"\n",
    "\n",
    "# Define the headers and data\n",
    "headers = {\n",
    "    \"Content-Type\": \"application/json\",\n",
    "    \"api-key\": api_key\n",
    "}\n",
    "\n",
    "data = {\n",
    "    \"messages\": [\n",
    "        {\"role\": \"user\", \"content\": \"Explain the theory of relativity.\"}\n",
    "    ],\n",
    "    \"max_tokens\": 50\n",
    "}\n",
    "\n",
    "# Make the request\n",
    "response = requests.post(endpoint, headers=headers, json=data)\n",
    "\n",
    "# Print the result\n",
    "if response.status_code == 200:\n",
    "    print(response.json())\n",
    "else:\n",
    "    print(f\"Error: {response.status_code}, {response.text}\")"
   ]
  },
  {
   "cell_type": "code",
   "execution_count": 2,
   "metadata": {},
   "outputs": [
    {
     "name": "stdout",
     "output_type": "stream",
     "text": [
      "The theory of relativity, put forward by Albert Einstein in the early 20th century, revolutionized our understanding of space, time, and gravity. It consists of two main parts: Special Relativity and General Relativity.\n",
      "\n",
      "### Special Relativity\n"
     ]
    }
   ],
   "source": [
    "print(response.json()[\"choices\"][0][\"message\"][\"content\"])"
   ]
  }
 ],
 "metadata": {
  "kernelspec": {
   "display_name": "Python 3",
   "language": "python",
   "name": "python3"
  },
  "language_info": {
   "codemirror_mode": {
    "name": "ipython",
    "version": 3
   },
   "file_extension": ".py",
   "mimetype": "text/x-python",
   "name": "python",
   "nbconvert_exporter": "python",
   "pygments_lexer": "ipython3",
   "version": "3.12.7"
  }
 },
 "nbformat": 4,
 "nbformat_minor": 2
}
